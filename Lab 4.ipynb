{
 "cells": [
  {
   "cell_type": "code",
   "execution_count": 20,
   "id": "59cacf19",
   "metadata": {},
   "outputs": [
    {
     "name": "stdout",
     "output_type": "stream",
     "text": [
      "5 4 3 2 1 \n",
      "4 3 2 1 \n",
      "3 2 1 \n",
      "2 1 \n",
      "1 \n"
     ]
    }
   ],
   "source": [
    "def lab4(a):\n",
    "    while a >0:\n",
    "        for i in reversed(range(a+1)):\n",
    "            int(i)\n",
    "            if i == 0:\n",
    "                continue\n",
    "                \n",
    "            print(i,end=' ')\n",
    "        print(\"\")\n",
    "        a=a-1\n",
    "lab4(5)"
   ]
  }
 ],
 "metadata": {
  "kernelspec": {
   "display_name": "Python 3 (ipykernel)",
   "language": "python",
   "name": "python3"
  },
  "language_info": {
   "codemirror_mode": {
    "name": "ipython",
    "version": 3
   },
   "file_extension": ".py",
   "mimetype": "text/x-python",
   "name": "python",
   "nbconvert_exporter": "python",
   "pygments_lexer": "ipython3",
   "version": "3.11.3"
  }
 },
 "nbformat": 4,
 "nbformat_minor": 5
}
