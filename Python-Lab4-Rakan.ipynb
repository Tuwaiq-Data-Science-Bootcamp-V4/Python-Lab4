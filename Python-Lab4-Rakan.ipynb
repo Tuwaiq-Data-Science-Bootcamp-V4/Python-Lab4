{
 "cells": [
  {
   "cell_type": "code",
   "execution_count": 1,
   "id": "71ec8578",
   "metadata": {},
   "outputs": [],
   "source": [
    "def lab_function_v1(num):\n",
    "    shape = \"\"\n",
    "    for i in reversed(range(num + 1)):\n",
    "        shape = \"\"\n",
    "        if i == 0:\n",
    "            break\n",
    "        for j in reversed(range(i + 1)):\n",
    "                if j == 0:\n",
    "                    break\n",
    "                shape +=str(j) + \" \"\n",
    "        print(shape)"
   ]
  },
  {
   "cell_type": "code",
   "execution_count": 2,
   "id": "abd73f3e",
   "metadata": {},
   "outputs": [
    {
     "name": "stdout",
     "output_type": "stream",
     "text": [
      "5 4 3 2 1 \n",
      "4 3 2 1 \n",
      "3 2 1 \n",
      "2 1 \n",
      "1 \n"
     ]
    }
   ],
   "source": [
    "lab_function_v1(5)"
   ]
  },
  {
   "cell_type": "code",
   "execution_count": 3,
   "id": "16949e04",
   "metadata": {},
   "outputs": [],
   "source": [
    "def lab_function_v2():\n",
    "    try:\n",
    "        num = int(input(\"Enter a Number: \"))\n",
    "        shape = \"\"\n",
    "        for i in reversed(range(num + 1)):\n",
    "            shape = \"\"\n",
    "            if i == 0:\n",
    "                break\n",
    "            for j in reversed(range(i + 1)):\n",
    "                    if j == 0:\n",
    "                        break\n",
    "                    shape +=str(j) + \" \"\n",
    "            print(shape)\n",
    "    except ValueError:\n",
    "         print(\"Error!!! \\nEnter a Number of type int\\n\")"
   ]
  },
  {
   "cell_type": "code",
   "execution_count": 4,
   "id": "a40e199b",
   "metadata": {},
   "outputs": [
    {
     "name": "stdout",
     "output_type": "stream",
     "text": [
      "Enter a Number: 5\n",
      "5 4 3 2 1 \n",
      "4 3 2 1 \n",
      "3 2 1 \n",
      "2 1 \n",
      "1 \n"
     ]
    }
   ],
   "source": [
    "lab_function_v2()"
   ]
  },
  {
   "cell_type": "code",
   "execution_count": 5,
   "id": "acda1ca5",
   "metadata": {},
   "outputs": [
    {
     "name": "stdout",
     "output_type": "stream",
     "text": [
      "Enter a Number: 9\n",
      "9 8 7 6 5 4 3 2 1 \n",
      "8 7 6 5 4 3 2 1 \n",
      "7 6 5 4 3 2 1 \n",
      "6 5 4 3 2 1 \n",
      "5 4 3 2 1 \n",
      "4 3 2 1 \n",
      "3 2 1 \n",
      "2 1 \n",
      "1 \n"
     ]
    }
   ],
   "source": [
    "lab_function_v2()"
   ]
  },
  {
   "cell_type": "code",
   "execution_count": 6,
   "id": "3a0382d0",
   "metadata": {},
   "outputs": [
    {
     "name": "stdout",
     "output_type": "stream",
     "text": [
      "Enter a Number: \"Hello\"\n",
      "Error!!! \n",
      "Enter a Number of type int\n",
      "\n"
     ]
    }
   ],
   "source": [
    "lab_function_v2()"
   ]
  },
  {
   "cell_type": "code",
   "execution_count": 7,
   "id": "949c0ae6",
   "metadata": {},
   "outputs": [
    {
     "name": "stdout",
     "output_type": "stream",
     "text": [
      "Enter a Number: True\n",
      "Error!!! \n",
      "Enter a Number of type int\n",
      "\n"
     ]
    }
   ],
   "source": [
    "lab_function_v2()"
   ]
  },
  {
   "cell_type": "code",
   "execution_count": 8,
   "id": "cca45d47",
   "metadata": {},
   "outputs": [
    {
     "name": "stdout",
     "output_type": "stream",
     "text": [
      "Enter a Number: 3.14159\n",
      "Error!!! \n",
      "Enter a Number of type int\n",
      "\n"
     ]
    }
   ],
   "source": [
    "lab_function_v2()"
   ]
  }
 ],
 "metadata": {
  "kernelspec": {
   "display_name": "Python 3 (ipykernel)",
   "language": "python",
   "name": "python3"
  },
  "language_info": {
   "codemirror_mode": {
    "name": "ipython",
    "version": 3
   },
   "file_extension": ".py",
   "mimetype": "text/x-python",
   "name": "python",
   "nbconvert_exporter": "python",
   "pygments_lexer": "ipython3",
   "version": "3.11.3"
  }
 },
 "nbformat": 4,
 "nbformat_minor": 5
}
