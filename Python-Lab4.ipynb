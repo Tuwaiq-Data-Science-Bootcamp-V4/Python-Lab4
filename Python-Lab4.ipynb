{
 "cells": [
  {
   "cell_type": "code",
   "execution_count": 85,
   "id": "8d4884cb",
   "metadata": {},
   "outputs": [
    {
     "name": "stdout",
     "output_type": "stream",
     "text": [
      " 5 4 3 2 1\n",
      " 4 3 2 1\n",
      " 3 2 1\n",
      " 2 1\n",
      " 1\n"
     ]
    }
   ],
   "source": [
    "#row\n",
    "for row in range(5,0,-1):\n",
    "    #col\n",
    "    for col in range(row,0,-1):\n",
    "        print(\"\",col,end=\"\")\n",
    "    print()"
   ]
  }
 ],
 "metadata": {
  "kernelspec": {
   "display_name": "Python 3 (ipykernel)",
   "language": "python",
   "name": "python3"
  },
  "language_info": {
   "codemirror_mode": {
    "name": "ipython",
    "version": 3
   },
   "file_extension": ".py",
   "mimetype": "text/x-python",
   "name": "python",
   "nbconvert_exporter": "python",
   "pygments_lexer": "ipython3",
   "version": "3.11.3"
  }
 },
 "nbformat": 4,
 "nbformat_minor": 5
}
