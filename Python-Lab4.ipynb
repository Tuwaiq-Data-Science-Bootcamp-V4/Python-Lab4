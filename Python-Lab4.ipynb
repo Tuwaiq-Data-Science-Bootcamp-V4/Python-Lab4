{
 "cells": [
  {
   "cell_type": "markdown",
   "id": "ee8124be",
   "metadata": {},
   "source": [
    "# Python-Lab4\n"
   ]
  },
  {
   "cell_type": "code",
   "execution_count": 1,
   "id": "f4806c31",
   "metadata": {},
   "outputs": [
    {
     "name": "stdout",
     "output_type": "stream",
     "text": [
      "6 5 4 3 2 1 \n",
      "\n",
      "5 4 3 2 1 \n",
      "\n",
      "4 3 2 1 \n",
      "\n",
      "3 2 1 \n",
      "\n",
      "2 1 \n",
      "\n",
      "1 \n",
      "\n"
     ]
    }
   ],
   "source": [
    "#function with nested loop \n",
    "def function(number: int):\n",
    "    \n",
    "    while number > 0 :\n",
    "        x = number\n",
    "        while x > 0 :\n",
    "            print(x, end=\" \")\n",
    "            x -= 1\n",
    "        print(\"\\n\")  \n",
    "        number -= 1   \n",
    "        \n",
    "function(6)"
   ]
  },
  {
   "cell_type": "code",
   "execution_count": null,
   "id": "8731881c",
   "metadata": {},
   "outputs": [],
   "source": []
  }
 ],
 "metadata": {
  "kernelspec": {
   "display_name": "Python 3 (ipykernel)",
   "language": "python",
   "name": "python3"
  },
  "language_info": {
   "codemirror_mode": {
    "name": "ipython",
    "version": 3
   },
   "file_extension": ".py",
   "mimetype": "text/x-python",
   "name": "python",
   "nbconvert_exporter": "python",
   "pygments_lexer": "ipython3",
   "version": "3.9.12"
  }
 },
 "nbformat": 4,
 "nbformat_minor": 5
}
